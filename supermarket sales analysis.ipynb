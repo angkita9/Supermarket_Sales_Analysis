{
 "cells": [
  {
   "cell_type": "code",
   "execution_count": null,
   "id": "2ebee3a0-ddf0-48a0-a7be-1b18d547568a",
   "metadata": {},
   "outputs": [],
   "source": [
    "#Reading data from csv and selecting first 10 data \n",
    "import pandas as pd\n",
    "Sales = pd.read_csv('sales(1).csv')\n",
    "Sales.head(10)"
   ]
  },
  {
   "cell_type": "code",
   "execution_count": 6,
   "id": "e1a463f7-40e6-4191-b4fd-6aad8da4e42d",
   "metadata": {},
   "outputs": [
    {
     "data": {
      "text/plain": [
       "0      460489604\n",
       "1      471006167\n",
       "2      411909258\n",
       "3      487313402\n",
       "4      197763430\n",
       "         ...    \n",
       "995    818829599\n",
       "996    556589713\n",
       "997     82324424\n",
       "998    783661702\n",
       "999    759171975\n",
       "Name: Invoice ID, Length: 1000, dtype: int64"
      ]
     },
     "execution_count": 6,
     "metadata": {},
     "output_type": "execute_result"
    }
   ],
   "source": [
    "# categorising data\n",
    "Sales['Invoice ID']"
   ]
  },
  {
   "cell_type": "code",
   "execution_count": 8,
   "id": "56c323cd-4b9e-4014-8bd8-7743c18772f7",
   "metadata": {},
   "outputs": [
    {
     "data": {
      "text/plain": [
       "array(['Groceries', 'Fashion', 'Clothing', 'Sporting', 'Books',\n",
       "       'Furniture'], dtype=object)"
      ]
     },
     "execution_count": 8,
     "metadata": {},
     "output_type": "execute_result"
    }
   ],
   "source": [
    "#labelling unique entities\n",
    "Sales['Category'].unique()"
   ]
  },
  {
   "cell_type": "code",
   "execution_count": 9,
   "id": "d4d438d1-e3a9-4087-9ef9-e94aa7e1df51",
   "metadata": {},
   "outputs": [
    {
     "data": {
      "text/plain": [
       "Invoice ID      576523018\n",
       "Date            2/15/2018\n",
       "Time                12:35\n",
       "Gender               Male\n",
       "Location      Water tower\n",
       "City              Chicago\n",
       "Member                 No\n",
       "Category        Groceries\n",
       "Price                  82\n",
       "Quantity                1\n",
       "Total                  82\n",
       "Payment              Card\n",
       "Rating                  4\n",
       "Name: 200, dtype: object"
      ]
     },
     "execution_count": 9,
     "metadata": {},
     "output_type": "execute_result"
    }
   ],
   "source": [
    "#Finding desired customer record\n",
    "Sales.iloc[200]"
   ]
  },
  {
   "cell_type": "code",
   "execution_count": 10,
   "id": "74651054-1fd0-4841-8153-24d5dc1858f3",
   "metadata": {},
   "outputs": [
    {
     "data": {
      "text/html": [
       "<div>\n",
       "<style scoped>\n",
       "    .dataframe tbody tr th:only-of-type {\n",
       "        vertical-align: middle;\n",
       "    }\n",
       "\n",
       "    .dataframe tbody tr th {\n",
       "        vertical-align: top;\n",
       "    }\n",
       "\n",
       "    .dataframe thead th {\n",
       "        text-align: right;\n",
       "    }\n",
       "</style>\n",
       "<table border=\"1\" class=\"dataframe\">\n",
       "  <thead>\n",
       "    <tr style=\"text-align: right;\">\n",
       "      <th></th>\n",
       "      <th>Invoice ID</th>\n",
       "      <th>Date</th>\n",
       "      <th>Time</th>\n",
       "      <th>Gender</th>\n",
       "      <th>Location</th>\n",
       "      <th>City</th>\n",
       "      <th>Member</th>\n",
       "      <th>Category</th>\n",
       "      <th>Price</th>\n",
       "      <th>Quantity</th>\n",
       "      <th>Total</th>\n",
       "      <th>Payment</th>\n",
       "      <th>Rating</th>\n",
       "    </tr>\n",
       "  </thead>\n",
       "  <tbody>\n",
       "    <tr>\n",
       "      <th>200</th>\n",
       "      <td>576523018</td>\n",
       "      <td>2/15/2018</td>\n",
       "      <td>12:35</td>\n",
       "      <td>Male</td>\n",
       "      <td>Water tower</td>\n",
       "      <td>Chicago</td>\n",
       "      <td>No</td>\n",
       "      <td>Groceries</td>\n",
       "      <td>82</td>\n",
       "      <td>1</td>\n",
       "      <td>82</td>\n",
       "      <td>Card</td>\n",
       "      <td>4</td>\n",
       "    </tr>\n",
       "    <tr>\n",
       "      <th>201</th>\n",
       "      <td>414119922</td>\n",
       "      <td>1/30/2018</td>\n",
       "      <td>11:07</td>\n",
       "      <td>Male</td>\n",
       "      <td>Water tower</td>\n",
       "      <td>Chicago</td>\n",
       "      <td>No</td>\n",
       "      <td>Sporting</td>\n",
       "      <td>44</td>\n",
       "      <td>7</td>\n",
       "      <td>308</td>\n",
       "      <td>Card</td>\n",
       "      <td>3</td>\n",
       "    </tr>\n",
       "    <tr>\n",
       "      <th>202</th>\n",
       "      <td>123247697</td>\n",
       "      <td>2/8/2018</td>\n",
       "      <td>20:03</td>\n",
       "      <td>Male</td>\n",
       "      <td>Brookfield</td>\n",
       "      <td>NewYork</td>\n",
       "      <td>No</td>\n",
       "      <td>Groceries</td>\n",
       "      <td>22</td>\n",
       "      <td>7</td>\n",
       "      <td>154</td>\n",
       "      <td>Card</td>\n",
       "      <td>5</td>\n",
       "    </tr>\n",
       "    <tr>\n",
       "      <th>203</th>\n",
       "      <td>40419058</td>\n",
       "      <td>1/26/2018</td>\n",
       "      <td>14:53</td>\n",
       "      <td>Male</td>\n",
       "      <td>Water tower</td>\n",
       "      <td>Chicago</td>\n",
       "      <td>Yes</td>\n",
       "      <td>Books</td>\n",
       "      <td>95</td>\n",
       "      <td>6</td>\n",
       "      <td>570</td>\n",
       "      <td>Card</td>\n",
       "      <td>1</td>\n",
       "    </tr>\n",
       "    <tr>\n",
       "      <th>204</th>\n",
       "      <td>890497298</td>\n",
       "      <td>2/25/2018</td>\n",
       "      <td>18:06</td>\n",
       "      <td>Female</td>\n",
       "      <td>Water tower</td>\n",
       "      <td>Chicago</td>\n",
       "      <td>No</td>\n",
       "      <td>Clothing</td>\n",
       "      <td>69</td>\n",
       "      <td>2</td>\n",
       "      <td>138</td>\n",
       "      <td>Cash</td>\n",
       "      <td>2</td>\n",
       "    </tr>\n",
       "    <tr>\n",
       "      <th>205</th>\n",
       "      <td>885702268</td>\n",
       "      <td>1/28/2018</td>\n",
       "      <td>12:45</td>\n",
       "      <td>Male</td>\n",
       "      <td>Brookfield</td>\n",
       "      <td>NewYork</td>\n",
       "      <td>No</td>\n",
       "      <td>Groceries</td>\n",
       "      <td>89</td>\n",
       "      <td>6</td>\n",
       "      <td>534</td>\n",
       "      <td>Card</td>\n",
       "      <td>1</td>\n",
       "    </tr>\n",
       "    <tr>\n",
       "      <th>206</th>\n",
       "      <td>172252194</td>\n",
       "      <td>3/22/2018</td>\n",
       "      <td>20:10</td>\n",
       "      <td>Female</td>\n",
       "      <td>Park lane</td>\n",
       "      <td>Dallas</td>\n",
       "      <td>No</td>\n",
       "      <td>Books</td>\n",
       "      <td>41</td>\n",
       "      <td>6</td>\n",
       "      <td>246</td>\n",
       "      <td>Card</td>\n",
       "      <td>4</td>\n",
       "    </tr>\n",
       "    <tr>\n",
       "      <th>207</th>\n",
       "      <td>866140211</td>\n",
       "      <td>2/25/2018</td>\n",
       "      <td>13:34</td>\n",
       "      <td>Female</td>\n",
       "      <td>Park lane</td>\n",
       "      <td>Dallas</td>\n",
       "      <td>No</td>\n",
       "      <td>Clothing</td>\n",
       "      <td>54</td>\n",
       "      <td>6</td>\n",
       "      <td>324</td>\n",
       "      <td>Gpay</td>\n",
       "      <td>4</td>\n",
       "    </tr>\n",
       "    <tr>\n",
       "      <th>208</th>\n",
       "      <td>597678548</td>\n",
       "      <td>3/15/2018</td>\n",
       "      <td>17:35</td>\n",
       "      <td>Male</td>\n",
       "      <td>Water tower</td>\n",
       "      <td>Chicago</td>\n",
       "      <td>Yes</td>\n",
       "      <td>Sporting</td>\n",
       "      <td>34</td>\n",
       "      <td>3</td>\n",
       "      <td>102</td>\n",
       "      <td>Cash</td>\n",
       "      <td>1</td>\n",
       "    </tr>\n",
       "    <tr>\n",
       "      <th>209</th>\n",
       "      <td>428818456</td>\n",
       "      <td>2/25/2018</td>\n",
       "      <td>18:50</td>\n",
       "      <td>Male</td>\n",
       "      <td>Park lane</td>\n",
       "      <td>Dallas</td>\n",
       "      <td>Yes</td>\n",
       "      <td>Books</td>\n",
       "      <td>94</td>\n",
       "      <td>5</td>\n",
       "      <td>470</td>\n",
       "      <td>Cash</td>\n",
       "      <td>2</td>\n",
       "    </tr>\n",
       "  </tbody>\n",
       "</table>\n",
       "</div>"
      ],
      "text/plain": [
       "     Invoice ID       Date   Time  Gender     Location     City Member  \\\n",
       "200   576523018  2/15/2018  12:35    Male  Water tower  Chicago     No   \n",
       "201   414119922  1/30/2018  11:07    Male  Water tower  Chicago     No   \n",
       "202   123247697   2/8/2018  20:03    Male   Brookfield  NewYork     No   \n",
       "203    40419058  1/26/2018  14:53    Male  Water tower  Chicago    Yes   \n",
       "204   890497298  2/25/2018  18:06  Female  Water tower  Chicago     No   \n",
       "205   885702268  1/28/2018  12:45    Male   Brookfield  NewYork     No   \n",
       "206   172252194  3/22/2018  20:10  Female    Park lane   Dallas     No   \n",
       "207   866140211  2/25/2018  13:34  Female    Park lane   Dallas     No   \n",
       "208   597678548  3/15/2018  17:35    Male  Water tower  Chicago    Yes   \n",
       "209   428818456  2/25/2018  18:50    Male    Park lane   Dallas    Yes   \n",
       "\n",
       "      Category  Price  Quantity  Total Payment  Rating  \n",
       "200  Groceries     82         1     82    Card       4  \n",
       "201   Sporting     44         7    308    Card       3  \n",
       "202  Groceries     22         7    154    Card       5  \n",
       "203      Books     95         6    570    Card       1  \n",
       "204   Clothing     69         2    138    Cash       2  \n",
       "205  Groceries     89         6    534    Card       1  \n",
       "206      Books     41         6    246    Card       4  \n",
       "207   Clothing     54         6    324    Gpay       4  \n",
       "208   Sporting     34         3    102    Cash       1  \n",
       "209      Books     94         5    470    Cash       2  "
      ]
     },
     "execution_count": 10,
     "metadata": {},
     "output_type": "execute_result"
    }
   ],
   "source": [
    "Sales[200:210]"
   ]
  },
  {
   "cell_type": "code",
   "execution_count": null,
   "id": "f7d1bf4e-00a5-47dc-9762-e7265c30c004",
   "metadata": {},
   "outputs": [],
   "source": [
    "#conditional format where customers==male\n",
    "Sales[Sales['Gender']=='Male'].head(10)"
   ]
  },
  {
   "cell_type": "code",
   "execution_count": null,
   "id": "15faadda-145a-4698-b24f-0287baf4f72e",
   "metadata": {},
   "outputs": [],
   "source": [
    "Sales[Sales['Total']>100]"
   ]
  },
  {
   "cell_type": "code",
   "execution_count": 15,
   "id": "d18b9bf0-e0f4-48df-a801-597a90974e8e",
   "metadata": {},
   "outputs": [
    {
     "data": {
      "text/plain": [
       "array(['Cash', 'Card', 'Gpay'], dtype=object)"
      ]
     },
     "execution_count": 15,
     "metadata": {},
     "output_type": "execute_result"
    }
   ],
   "source": [
    "#unique sales payment\n",
    "Sales['Payment'].unique()"
   ]
  },
  {
   "cell_type": "code",
   "execution_count": 16,
   "id": "090a0714-9b43-4bcc-aa8e-d638d5570671",
   "metadata": {},
   "outputs": [
    {
     "data": {
      "text/html": [
       "<div>\n",
       "<style scoped>\n",
       "    .dataframe tbody tr th:only-of-type {\n",
       "        vertical-align: middle;\n",
       "    }\n",
       "\n",
       "    .dataframe tbody tr th {\n",
       "        vertical-align: top;\n",
       "    }\n",
       "\n",
       "    .dataframe thead th {\n",
       "        text-align: right;\n",
       "    }\n",
       "</style>\n",
       "<table border=\"1\" class=\"dataframe\">\n",
       "  <thead>\n",
       "    <tr style=\"text-align: right;\">\n",
       "      <th></th>\n",
       "      <th>Invoice ID</th>\n",
       "      <th>Date</th>\n",
       "      <th>Time</th>\n",
       "      <th>Gender</th>\n",
       "      <th>Location</th>\n",
       "      <th>City</th>\n",
       "      <th>Member</th>\n",
       "      <th>Category</th>\n",
       "      <th>Price</th>\n",
       "      <th>Quantity</th>\n",
       "      <th>Total</th>\n",
       "      <th>Payment</th>\n",
       "      <th>Rating</th>\n",
       "    </tr>\n",
       "  </thead>\n",
       "  <tbody>\n",
       "    <tr>\n",
       "      <th>1</th>\n",
       "      <td>471006167</td>\n",
       "      <td>3/19/2018</td>\n",
       "      <td>16:48</td>\n",
       "      <td>Female</td>\n",
       "      <td>Water tower</td>\n",
       "      <td>Chicago</td>\n",
       "      <td>Yes</td>\n",
       "      <td>Fashion</td>\n",
       "      <td>35</td>\n",
       "      <td>5</td>\n",
       "      <td>175</td>\n",
       "      <td>Card</td>\n",
       "      <td>3</td>\n",
       "    </tr>\n",
       "    <tr>\n",
       "      <th>2</th>\n",
       "      <td>411909258</td>\n",
       "      <td>2/25/2018</td>\n",
       "      <td>13:33</td>\n",
       "      <td>Male</td>\n",
       "      <td>Water tower</td>\n",
       "      <td>Chicago</td>\n",
       "      <td>No</td>\n",
       "      <td>Clothing</td>\n",
       "      <td>57</td>\n",
       "      <td>2</td>\n",
       "      <td>114</td>\n",
       "      <td>Cash</td>\n",
       "      <td>5</td>\n",
       "    </tr>\n",
       "    <tr>\n",
       "      <th>7</th>\n",
       "      <td>188869875</td>\n",
       "      <td>3/8/2018</td>\n",
       "      <td>13:24</td>\n",
       "      <td>Male</td>\n",
       "      <td>Park lane</td>\n",
       "      <td>Dallas</td>\n",
       "      <td>No</td>\n",
       "      <td>Books</td>\n",
       "      <td>80</td>\n",
       "      <td>2</td>\n",
       "      <td>160</td>\n",
       "      <td>Cash</td>\n",
       "      <td>3</td>\n",
       "    </tr>\n",
       "    <tr>\n",
       "      <th>9</th>\n",
       "      <td>562942936</td>\n",
       "      <td>2/24/2018</td>\n",
       "      <td>16:05</td>\n",
       "      <td>Female</td>\n",
       "      <td>Park lane</td>\n",
       "      <td>Dallas</td>\n",
       "      <td>No</td>\n",
       "      <td>Books</td>\n",
       "      <td>80</td>\n",
       "      <td>2</td>\n",
       "      <td>160</td>\n",
       "      <td>Cash</td>\n",
       "      <td>4</td>\n",
       "    </tr>\n",
       "    <tr>\n",
       "      <th>10</th>\n",
       "      <td>388412668</td>\n",
       "      <td>2/26/2018</td>\n",
       "      <td>11:32</td>\n",
       "      <td>Female</td>\n",
       "      <td>Brookfield</td>\n",
       "      <td>NewYork</td>\n",
       "      <td>No</td>\n",
       "      <td>Furniture</td>\n",
       "      <td>35</td>\n",
       "      <td>4</td>\n",
       "      <td>140</td>\n",
       "      <td>Gpay</td>\n",
       "      <td>4</td>\n",
       "    </tr>\n",
       "    <tr>\n",
       "      <th>...</th>\n",
       "      <td>...</td>\n",
       "      <td>...</td>\n",
       "      <td>...</td>\n",
       "      <td>...</td>\n",
       "      <td>...</td>\n",
       "      <td>...</td>\n",
       "      <td>...</td>\n",
       "      <td>...</td>\n",
       "      <td>...</td>\n",
       "      <td>...</td>\n",
       "      <td>...</td>\n",
       "      <td>...</td>\n",
       "      <td>...</td>\n",
       "    </tr>\n",
       "    <tr>\n",
       "      <th>977</th>\n",
       "      <td>614557665</td>\n",
       "      <td>3/22/2018</td>\n",
       "      <td>17:16</td>\n",
       "      <td>Female</td>\n",
       "      <td>Park lane</td>\n",
       "      <td>Dallas</td>\n",
       "      <td>No</td>\n",
       "      <td>Clothing</td>\n",
       "      <td>49</td>\n",
       "      <td>3</td>\n",
       "      <td>147</td>\n",
       "      <td>Cash</td>\n",
       "      <td>5</td>\n",
       "    </tr>\n",
       "    <tr>\n",
       "      <th>981</th>\n",
       "      <td>418253101</td>\n",
       "      <td>3/14/2018</td>\n",
       "      <td>12:25</td>\n",
       "      <td>Female</td>\n",
       "      <td>Brookfield</td>\n",
       "      <td>NewYork</td>\n",
       "      <td>No</td>\n",
       "      <td>Fashion</td>\n",
       "      <td>81</td>\n",
       "      <td>2</td>\n",
       "      <td>162</td>\n",
       "      <td>Gpay</td>\n",
       "      <td>5</td>\n",
       "    </tr>\n",
       "    <tr>\n",
       "      <th>989</th>\n",
       "      <td>941364541</td>\n",
       "      <td>3/13/2018</td>\n",
       "      <td>14:53</td>\n",
       "      <td>Female</td>\n",
       "      <td>Brookfield</td>\n",
       "      <td>NewYork</td>\n",
       "      <td>No</td>\n",
       "      <td>Sporting</td>\n",
       "      <td>19</td>\n",
       "      <td>7</td>\n",
       "      <td>133</td>\n",
       "      <td>Cash</td>\n",
       "      <td>1</td>\n",
       "    </tr>\n",
       "    <tr>\n",
       "      <th>994</th>\n",
       "      <td>446582560</td>\n",
       "      <td>1/31/2018</td>\n",
       "      <td>19:00</td>\n",
       "      <td>Male</td>\n",
       "      <td>Water tower</td>\n",
       "      <td>Chicago</td>\n",
       "      <td>No</td>\n",
       "      <td>Fashion</td>\n",
       "      <td>29</td>\n",
       "      <td>5</td>\n",
       "      <td>145</td>\n",
       "      <td>Cash</td>\n",
       "      <td>4</td>\n",
       "    </tr>\n",
       "    <tr>\n",
       "      <th>995</th>\n",
       "      <td>818829599</td>\n",
       "      <td>3/26/2018</td>\n",
       "      <td>11:19</td>\n",
       "      <td>Male</td>\n",
       "      <td>Park lane</td>\n",
       "      <td>Dallas</td>\n",
       "      <td>No</td>\n",
       "      <td>Groceries</td>\n",
       "      <td>31</td>\n",
       "      <td>4</td>\n",
       "      <td>124</td>\n",
       "      <td>Card</td>\n",
       "      <td>3</td>\n",
       "    </tr>\n",
       "  </tbody>\n",
       "</table>\n",
       "<p>231 rows × 13 columns</p>\n",
       "</div>"
      ],
      "text/plain": [
       "     Invoice ID       Date   Time  Gender     Location     City Member  \\\n",
       "1     471006167  3/19/2018  16:48  Female  Water tower  Chicago    Yes   \n",
       "2     411909258  2/25/2018  13:33    Male  Water tower  Chicago     No   \n",
       "7     188869875   3/8/2018  13:24    Male    Park lane   Dallas     No   \n",
       "9     562942936  2/24/2018  16:05  Female    Park lane   Dallas     No   \n",
       "10    388412668  2/26/2018  11:32  Female   Brookfield  NewYork     No   \n",
       "..          ...        ...    ...     ...          ...      ...    ...   \n",
       "977   614557665  3/22/2018  17:16  Female    Park lane   Dallas     No   \n",
       "981   418253101  3/14/2018  12:25  Female   Brookfield  NewYork     No   \n",
       "989   941364541  3/13/2018  14:53  Female   Brookfield  NewYork     No   \n",
       "994   446582560  1/31/2018  19:00    Male  Water tower  Chicago     No   \n",
       "995   818829599  3/26/2018  11:19    Male    Park lane   Dallas     No   \n",
       "\n",
       "      Category  Price  Quantity  Total Payment  Rating  \n",
       "1      Fashion     35         5    175    Card       3  \n",
       "2     Clothing     57         2    114    Cash       5  \n",
       "7        Books     80         2    160    Cash       3  \n",
       "9        Books     80         2    160    Cash       4  \n",
       "10   Furniture     35         4    140    Gpay       4  \n",
       "..         ...    ...       ...    ...     ...     ...  \n",
       "977   Clothing     49         3    147    Cash       5  \n",
       "981    Fashion     81         2    162    Gpay       5  \n",
       "989   Sporting     19         7    133    Cash       1  \n",
       "994    Fashion     29         5    145    Cash       4  \n",
       "995  Groceries     31         4    124    Card       3  \n",
       "\n",
       "[231 rows x 13 columns]"
      ]
     },
     "execution_count": 16,
     "metadata": {},
     "output_type": "execute_result"
    }
   ],
   "source": [
    "#Adding multiple conditions using query method\n",
    "Sales.query('100<Total<200')\n"
   ]
  },
  {
   "cell_type": "code",
   "execution_count": null,
   "id": "d9f76401-61d8-417a-946b-4f19e5a981e4",
   "metadata": {},
   "outputs": [],
   "source": [
    "Sales.query('Payment==\"Cash\" &  City== \"NewYork\" & Total<50')"
   ]
  },
  {
   "cell_type": "markdown",
   "id": "fe0aad60-df82-4f79-bea4-ffafa95e6fae",
   "metadata": {},
   "source": [
    "import pandas as pd\n",
    "Sales = pd.read_csv('sales(1).csv')\n",
    "Sales.head(10)"
   ]
  },
  {
   "cell_type": "markdown",
   "id": "9a11c2b3-8ea0-4a7e-a268-cc0d2411fbd9",
   "metadata": {},
   "source": [
    "Sales.sum()['Total']"
   ]
  },
  {
   "cell_type": "markdown",
   "id": "744f3374-71b8-4538-8c0d-e9aedc20e344",
   "metadata": {},
   "source": [
    "Sales.sum()['Quantity']"
   ]
  },
  {
   "cell_type": "markdown",
   "id": "82880462-f8a3-4384-9919-95bc8390a6a9",
   "metadata": {},
   "source": [
    "# the user who spend highest amount\n",
    "Sales.max()['Total']\n",
    "Sales[Sales['Total']==Sales.max()['Total']]"
   ]
  },
  {
   "cell_type": "markdown",
   "id": "31cf317b-eb4d-4445-a4a1-348c784f79a6",
   "metadata": {},
   "source": [
    "# average purchase by user\n",
    "Sales.mean()['Total']"
   ]
  },
  {
   "cell_type": "markdown",
   "id": "1d049935-98d8-4388-a0bf-93fd58ed3c0b",
   "metadata": {},
   "source": [
    "# using groupby to group data by location and date\n",
    "Sales.groupby('City').sum()['Total']"
   ]
  },
  {
   "cell_type": "markdown",
   "id": "5b160e30-cf25-4585-aafd-537cd742e8d2",
   "metadata": {},
   "source": [
    "Sales.groupby('Date').sum()['Total']"
   ]
  },
  {
   "cell_type": "markdown",
   "id": "3f98ee6a-ce5e-4375-b42e-40b103e5ffaa",
   "metadata": {},
   "source": [
    "# Answering question about the branch\n",
    "# which loaction has highest and lowest sales\n",
    "# represent the sales on a bar chart also show the market share for each location using pie chart\n"
   ]
  },
  {
   "cell_type": "code",
   "execution_count": 20,
   "id": "bf652cd4-5a8c-4657-9271-bd69b645dee6",
   "metadata": {},
   "outputs": [
    {
     "data": {
      "text/plain": [
       "['Brookfield', 'Park lane', 'Water tower']"
      ]
     },
     "execution_count": 20,
     "metadata": {},
     "output_type": "execute_result"
    }
   ],
   "source": [
    "location_list = Sales.groupby('Location')\n",
    "location = [x for x,y in location_list]\n",
    "location"
   ]
  },
  {
   "cell_type": "code",
   "execution_count": 21,
   "id": "93314bc2-e7d0-4dcb-8142-ce35365a0b58",
   "metadata": {},
   "outputs": [
    {
     "data": {
      "text/plain": [
       "Location\n",
       "Brookfield     72141\n",
       "Park lane      70432\n",
       "Water tower    65215\n",
       "Name: Total, dtype: int64"
      ]
     },
     "execution_count": 21,
     "metadata": {},
     "output_type": "execute_result"
    }
   ],
   "source": [
    "Sales.groupby('Location').sum()['Total']"
   ]
  },
  {
   "cell_type": "code",
   "execution_count": 22,
   "id": "ff9af735-6bb1-4e60-9009-4b291c4bc02b",
   "metadata": {},
   "outputs": [
    {
     "name": "stderr",
     "output_type": "stream",
     "text": [
      "Matplotlib is building the font cache; this may take a moment.\n"
     ]
    },
    {
     "data": {
      "text/plain": [
       "<BarContainer object of 3 artists>"
      ]
     },
     "execution_count": 22,
     "metadata": {},
     "output_type": "execute_result"
    },
    {
     "data": {
      "image/png": "[encoded data removed]",
      "text/plain": [
       "<Figure size 432x288 with 1 Axes>"
      ]
     },
     "metadata": {
      "needs_background": "light"
     },
     "output_type": "display_data"
    }
   ],
   "source": [
    "import matplotlib.pyplot as plt\n",
    "plt.bar(location,Sales.groupby('Location').sum()['Total'])\n",
    "plt.show()"
   ]
  },
  {
   "cell_type": "code",
   "execution_count": 28,
   "id": "902221a4-0384-4a42-9218-7f6eed87e252",
   "metadata": {},
   "outputs": [
    {
     "data": {
      "image/png": "[encoded data removed]",
      "text/plain": [
       "<Figure size 432x288 with 1 Axes>"
      ]
     },
     "metadata": {},
     "output_type": "display_data"
    }
   ],
   "source": [
    "plt.pie(Sales.groupby('Location').sum()['Total'], labels = location,autopct='%1.1f%%')\n",
    "plt.show()"
   ]
  },
  {
   "cell_type": "code",
   "execution_count": null,
   "id": "90382ce3-2717-4b64-b97c-3cde3bc359ae",
   "metadata": {},
   "outputs": [],
   "source": [
    "#which location has more male and which has more female customer"
   ]
  },
  {
   "cell_type": "code",
   "execution_count": null,
   "id": "3aa48fe5-db50-4a48-80c6-9eddefd4f524",
   "metadata": {},
   "outputs": [],
   "source": [
    "location_sales=Sales.groupby(['Gender','Location']).count()['Invoice ID']"
   ]
  },
  {
   "cell_type": "code",
   "execution_count": null,
   "id": "6a925b5c-6ca6-4863-9ef8-9f578ad22be5",
   "metadata": {},
   "outputs": [],
   "source": [
    "unstacked_sales=location_sales.unstack(level=0)\n",
    "unstacked_sales.plot(kind='bar')"
   ]
  },
  {
   "cell_type": "code",
   "execution_count": null,
   "id": "f5113234-c561-4514-a764-da001d7e174b",
   "metadata": {},
   "outputs": [
    {
     "data": {
      "text/plain": [
       "<AxesSubplot:xlabel='Location'>"
      ]
     },
     "execution_count": 36,
     "metadata": {},
     "output_type": "execute_result"
    },
    {
     "data": {
      "image/png": "[encoded data removed]",
      "text/plain": [
       "<Figure size 432x288 with 1 Axes>"
      ]
     },
     "metadata": {
      "needs_background": "light"
     },
     "output_type": "display_data"
    }
   ],
   "source": []
  },
  {
   "cell_type": "code",
   "execution_count": null,
   "id": "c0d928c9-c13f-46ed-99e2-fd15c41a3695",
   "metadata": {},
   "outputs": [],
   "source": [
    "# which branch has more VS less members\n",
    "# which branch has highest VS lowest rating\n"
   ]
  },
  {
   "cell_type": "code",
   "execution_count": 37,
   "id": "f823e1c1-4987-4d1f-9050-4287d1f4c6dd",
   "metadata": {},
   "outputs": [
    {
     "data": {
      "text/plain": [
       "Member  Location   \n",
       "No      Brookfield     173\n",
       "        Park lane      167\n",
       "        Water tower    159\n",
       "Yes     Brookfield     167\n",
       "        Park lane      165\n",
       "        Water tower    169\n",
       "Name: Invoice ID, dtype: int64"
      ]
     },
     "execution_count": 37,
     "metadata": {},
     "output_type": "execute_result"
    }
   ],
   "source": [
    "members = Sales.groupby(['Member','Location']).count()['Invoice ID']\n",
    "members"
   ]
  },
  {
   "cell_type": "code",
   "execution_count": null,
   "id": "290d0ba6-e6f5-48b4-900a-3b24d3ca5f2b",
   "metadata": {},
   "outputs": [],
   "source": []
  },
  {
   "cell_type": "code",
   "execution_count": 38,
   "id": "92a59e78-2056-4344-ae93-6c00b24d859c",
   "metadata": {},
   "outputs": [
    {
     "data": {
      "image/png": "[encoded data removed]",
      "text/plain": [
       "<Figure size 432x288 with 1 Axes>"
      ]
     },
     "metadata": {
      "needs_background": "light"
     },
     "output_type": "display_data"
    }
   ],
   "source": [
    "members.unstack(level=0).plot(kind=\"bar\")\n",
    "plt.show()"
   ]
  },
  {
   "cell_type": "code",
   "execution_count": 42,
   "id": "6c8d0f0e-8f75-4c28-b810-c93e8345a207",
   "metadata": {},
   "outputs": [
    {
     "data": {
      "text/plain": [
       "Location\n",
       "Brookfield     2.782353\n",
       "Park lane      3.021084\n",
       "Water tower    3.118902\n",
       "Name: Rating, dtype: float64"
      ]
     },
     "execution_count": 42,
     "metadata": {},
     "output_type": "execute_result"
    }
   ],
   "source": [
    "rating = Sales.groupby('Location').mean()['Rating']\n",
    "rating"
   ]
  },
  {
   "cell_type": "code",
   "execution_count": 43,
   "id": "de7513ee-974b-4787-81b0-e6868e460e7e",
   "metadata": {},
   "outputs": [
    {
     "data": {
      "image/png": "[encoded data removed]",
      "text/plain": [
       "<Figure size 432x288 with 1 Axes>"
      ]
     },
     "metadata": {
      "needs_background": "light"
     },
     "output_type": "display_data"
    }
   ],
   "source": [
    "rating.plot(kind = 'bar')\n",
    "plt.show()"
   ]
  },
  {
   "cell_type": "code",
   "execution_count": null,
   "id": "6fffa22b-c0e0-4ad2-a013-5d60b7af6369",
   "metadata": {},
   "outputs": [],
   "source": [
    "# which city has more female shopping\n",
    "# who spends more men or women\n",
    "# who spends more member or non member\n",
    "# which product line sells more\n",
    "# which product line is more popular"
   ]
  },
  {
   "cell_type": "code",
   "execution_count": 49,
   "id": "f20b4814-b3c2-430a-8dd7-fd3f51be37d0",
   "metadata": {},
   "outputs": [],
   "source": [
    "female_shoppers=Sales.groupby(['Gender','City']).count()['Invoice ID']"
   ]
  },
  {
   "cell_type": "code",
   "execution_count": 51,
   "id": "35ee0d6d-457b-47c2-86ba-4eb9f1babc4e",
   "metadata": {},
   "outputs": [
    {
     "data": {
      "image/png": "[encoded data removed]",
      "text/plain": [
       "<Figure size 432x288 with 1 Axes>"
      ]
     },
     "metadata": {
      "needs_background": "light"
     },
     "output_type": "display_data"
    }
   ],
   "source": [
    "female_shoppers.unstack(level=0).plot(kind='bar')\n",
    "plt.show()"
   ]
  },
  {
   "cell_type": "code",
   "execution_count": 53,
   "id": "0ffdb935-b64f-4839-9ee8-d03101b3aeca",
   "metadata": {},
   "outputs": [],
   "source": [
    "spend=Sales.groupby('Gender').sum()['Total']"
   ]
  },
  {
   "cell_type": "code",
   "execution_count": 54,
   "id": "4992fe2f-9d6b-4bf1-a526-202b11537d68",
   "metadata": {},
   "outputs": [
    {
     "data": {
      "image/png": "[encoded data removed]",
      "text/plain": [
       "<Figure size 432x288 with 1 Axes>"
      ]
     },
     "metadata": {
      "needs_background": "light"
     },
     "output_type": "display_data"
    }
   ],
   "source": [
    "spend.plot(kind='bar')\n",
    "plt.show()"
   ]
  },
  {
   "cell_type": "code",
   "execution_count": 55,
   "id": "23597088-db35-4f83-85ea-2d0d32a0815f",
   "metadata": {},
   "outputs": [
    {
     "data": {
      "text/plain": [
       "Member\n",
       "No     100245\n",
       "Yes    107543\n",
       "Name: Total, dtype: int64"
      ]
     },
     "execution_count": 55,
     "metadata": {},
     "output_type": "execute_result"
    }
   ],
   "source": [
    "member=Sales.groupby('Member').sum()['Total']\n",
    "member\n"
   ]
  },
  {
   "cell_type": "code",
   "execution_count": 56,
   "id": "b51e6f00-beb1-4153-9853-073d848a560c",
   "metadata": {},
   "outputs": [
    {
     "data": {
      "image/png": "[encoded data removed]",
      "text/plain": [
       "<Figure size 432x288 with 1 Axes>"
      ]
     },
     "metadata": {
      "needs_background": "light"
     },
     "output_type": "display_data"
    }
   ],
   "source": [
    "member.plot(kind='bar')\n",
    "plt.show()"
   ]
  },
  {
   "cell_type": "code",
   "execution_count": 57,
   "id": "e74dbd3a-15f5-4336-afa4-9fc83623c645",
   "metadata": {},
   "outputs": [],
   "source": [
    "category_sales = Sales.groupby('Category').count()['Rating']"
   ]
  },
  {
   "cell_type": "code",
   "execution_count": 58,
   "id": "5f6e3063-06de-469a-846b-78ecce90238e",
   "metadata": {},
   "outputs": [
    {
     "data": {
      "image/png": "[encoded data removed]",
      "text/plain": [
       "<Figure size 432x288 with 1 Axes>"
      ]
     },
     "metadata": {
      "needs_background": "light"
     },
     "output_type": "display_data"
    }
   ],
   "source": [
    "category_sales.plot(kind='bar')\n",
    "plt.show()"
   ]
  },
  {
   "cell_type": "code",
   "execution_count": 59,
   "id": "2b2e4ee3-8980-4411-ac44-137400d1de3c",
   "metadata": {},
   "outputs": [],
   "source": [
    "sales_m_w = Sales.groupby(['Gender','Category']).count()['Rating']"
   ]
  },
  {
   "cell_type": "code",
   "execution_count": 60,
   "id": "fa421f56-21ab-4055-a897-e3906c62630b",
   "metadata": {},
   "outputs": [
    {
     "data": {
      "image/png": "[encoded data removed]",
      "text/plain": [
       "<Figure size 432x288 with 1 Axes>"
      ]
     },
     "metadata": {
      "needs_background": "light"
     },
     "output_type": "display_data"
    }
   ],
   "source": [
    "sales_m_w.unstack(level=0).plot(kind='bar')\n",
    "plt.show()"
   ]
  },
  {
   "cell_type": "code",
   "execution_count": null,
   "id": "d514dc6b-821e-4368-b20c-13899e7bf1bd",
   "metadata": {},
   "outputs": [],
   "source": [
    "# Days make the best sales"
   ]
  },
  {
   "cell_type": "code",
   "execution_count": 67,
   "id": "d2bfeb4a-ca7a-434d-9ad8-58abce08b277",
   "metadata": {},
   "outputs": [
    {
     "data": {
      "text/html": [
       "<div>\n",
       "<style scoped>\n",
       "    .dataframe tbody tr th:only-of-type {\n",
       "        vertical-align: middle;\n",
       "    }\n",
       "\n",
       "    .dataframe tbody tr th {\n",
       "        vertical-align: top;\n",
       "    }\n",
       "\n",
       "    .dataframe thead th {\n",
       "        text-align: right;\n",
       "    }\n",
       "</style>\n",
       "<table border=\"1\" class=\"dataframe\">\n",
       "  <thead>\n",
       "    <tr style=\"text-align: right;\">\n",
       "      <th></th>\n",
       "      <th>Invoice ID</th>\n",
       "      <th>Date</th>\n",
       "      <th>Time</th>\n",
       "      <th>Gender</th>\n",
       "      <th>Location</th>\n",
       "      <th>City</th>\n",
       "      <th>Member</th>\n",
       "      <th>Category</th>\n",
       "      <th>Price</th>\n",
       "      <th>Quantity</th>\n",
       "      <th>Total</th>\n",
       "      <th>Payment</th>\n",
       "      <th>Rating</th>\n",
       "      <th>Day</th>\n",
       "    </tr>\n",
       "  </thead>\n",
       "  <tbody>\n",
       "    <tr>\n",
       "      <th>0</th>\n",
       "      <td>460489604</td>\n",
       "      <td>1/25/2018</td>\n",
       "      <td>16:46</td>\n",
       "      <td>Male</td>\n",
       "      <td>Brookfield</td>\n",
       "      <td>NewYork</td>\n",
       "      <td>Yes</td>\n",
       "      <td>Groceries</td>\n",
       "      <td>30</td>\n",
       "      <td>1</td>\n",
       "      <td>30</td>\n",
       "      <td>Cash</td>\n",
       "      <td>2</td>\n",
       "      <td>25</td>\n",
       "    </tr>\n",
       "    <tr>\n",
       "      <th>1</th>\n",
       "      <td>471006167</td>\n",
       "      <td>3/19/2018</td>\n",
       "      <td>16:48</td>\n",
       "      <td>Female</td>\n",
       "      <td>Water tower</td>\n",
       "      <td>Chicago</td>\n",
       "      <td>Yes</td>\n",
       "      <td>Fashion</td>\n",
       "      <td>35</td>\n",
       "      <td>5</td>\n",
       "      <td>175</td>\n",
       "      <td>Card</td>\n",
       "      <td>3</td>\n",
       "      <td>19</td>\n",
       "    </tr>\n",
       "    <tr>\n",
       "      <th>2</th>\n",
       "      <td>411909258</td>\n",
       "      <td>2/25/2018</td>\n",
       "      <td>13:33</td>\n",
       "      <td>Male</td>\n",
       "      <td>Water tower</td>\n",
       "      <td>Chicago</td>\n",
       "      <td>No</td>\n",
       "      <td>Clothing</td>\n",
       "      <td>57</td>\n",
       "      <td>2</td>\n",
       "      <td>114</td>\n",
       "      <td>Cash</td>\n",
       "      <td>5</td>\n",
       "      <td>25</td>\n",
       "    </tr>\n",
       "    <tr>\n",
       "      <th>3</th>\n",
       "      <td>487313402</td>\n",
       "      <td>1/22/2018</td>\n",
       "      <td>13:38</td>\n",
       "      <td>Female</td>\n",
       "      <td>Park lane</td>\n",
       "      <td>Dallas</td>\n",
       "      <td>Yes</td>\n",
       "      <td>Sporting</td>\n",
       "      <td>89</td>\n",
       "      <td>4</td>\n",
       "      <td>356</td>\n",
       "      <td>Gpay</td>\n",
       "      <td>1</td>\n",
       "      <td>22</td>\n",
       "    </tr>\n",
       "    <tr>\n",
       "      <th>4</th>\n",
       "      <td>197763430</td>\n",
       "      <td>2/18/2018</td>\n",
       "      <td>15:31</td>\n",
       "      <td>Female</td>\n",
       "      <td>Park lane</td>\n",
       "      <td>Dallas</td>\n",
       "      <td>No</td>\n",
       "      <td>Books</td>\n",
       "      <td>82</td>\n",
       "      <td>5</td>\n",
       "      <td>410</td>\n",
       "      <td>Cash</td>\n",
       "      <td>4</td>\n",
       "      <td>18</td>\n",
       "    </tr>\n",
       "  </tbody>\n",
       "</table>\n",
       "</div>"
      ],
      "text/plain": [
       "   Invoice ID       Date   Time  Gender     Location     City Member  \\\n",
       "0   460489604  1/25/2018  16:46    Male   Brookfield  NewYork    Yes   \n",
       "1   471006167  3/19/2018  16:48  Female  Water tower  Chicago    Yes   \n",
       "2   411909258  2/25/2018  13:33    Male  Water tower  Chicago     No   \n",
       "3   487313402  1/22/2018  13:38  Female    Park lane   Dallas    Yes   \n",
       "4   197763430  2/18/2018  15:31  Female    Park lane   Dallas     No   \n",
       "\n",
       "    Category  Price  Quantity  Total Payment  Rating  Day  \n",
       "0  Groceries     30         1     30    Cash       2   25  \n",
       "1    Fashion     35         5    175    Card       3   19  \n",
       "2   Clothing     57         2    114    Cash       5   25  \n",
       "3   Sporting     89         4    356    Gpay       1   22  \n",
       "4      Books     82         5    410    Cash       4   18  "
      ]
     },
     "execution_count": 67,
     "metadata": {},
     "output_type": "execute_result"
    }
   ],
   "source": [
    "Sales['Day']=pd.to_datetime(Sales['Date']).dt.day\n",
    "Sales.head(5)"
   ]
  },
  {
   "cell_type": "code",
   "execution_count": 68,
   "id": "123960db-3509-44e5-b305-e664d012d27f",
   "metadata": {},
   "outputs": [],
   "source": [
    "day_sales = Sales.groupby('Day').sum()['Total']\n"
   ]
  },
  {
   "cell_type": "code",
   "execution_count": 69,
   "id": "01413089-4f98-41e5-9663-c0b39c754689",
   "metadata": {},
   "outputs": [
    {
     "data": {
      "image/png": "[encoded data removed]",
      "text/plain": [
       "<Figure size 432x288 with 1 Axes>"
      ]
     },
     "metadata": {
      "needs_background": "light"
     },
     "output_type": "display_data"
    }
   ],
   "source": [
    "day_sales.plot()\n",
    "plt.show()"
   ]
  },
  {
   "cell_type": "code",
   "execution_count": 70,
   "id": "ef9976d0-ff63-4791-b5f3-02103d3a69e3",
   "metadata": {},
   "outputs": [],
   "source": [
    "Sales['Month']=pd.to_datetime(Sales['Date']).dt.month"
   ]
  },
  {
   "cell_type": "code",
   "execution_count": 71,
   "id": "20a3d2f1-f9a0-4d55-af67-d862c3f960d7",
   "metadata": {},
   "outputs": [],
   "source": [
    "month_sales = Sales.groupby('Month').sum()['Total']"
   ]
  },
  {
   "cell_type": "code",
   "execution_count": 73,
   "id": "c5957f5b-ca99-4405-978d-8668092e7b92",
   "metadata": {},
   "outputs": [
    {
     "data": {
      "image/png": "[encoded data removed]",
      "text/plain": [
       "<Figure size 432x288 with 1 Axes>"
      ]
     },
     "metadata": {
      "needs_background": "light"
     },
     "output_type": "display_data"
    }
   ],
   "source": [
    "month_sales.plot(kind='bar')\n",
    "plt.show()"
   ]
  },
  {
   "cell_type": "markdown",
   "id": "9c4f8783-048a-4099-b628-a8d34f2ffdf1",
   "metadata": {},
   "source": [
    "# peaktime for sales"
   ]
  },
  {
   "cell_type": "code",
   "execution_count": 79,
   "id": "ca1446dd-608b-4e15-b1c9-47bc14710776",
   "metadata": {},
   "outputs": [],
   "source": [
    "Sales['Hour']=pd.to_datetime(Sales['Time']).dt.hour"
   ]
  },
  {
   "cell_type": "code",
   "execution_count": 80,
   "id": "ac17ac6c-b789-4e7b-ab80-5450f3899ba8",
   "metadata": {},
   "outputs": [],
   "source": [
    "hourly_sales = Sales.groupby('Hour').sum()['Total']"
   ]
  },
  {
   "cell_type": "code",
   "execution_count": 81,
   "id": "d9622652-8e85-40d0-aa5c-97d017c8fcf1",
   "metadata": {},
   "outputs": [
    {
     "data": {
      "image/png": "[encoded data removed]",
      "text/plain": [
       "<Figure size 432x288 with 1 Axes>"
      ]
     },
     "metadata": {
      "needs_background": "light"
     },
     "output_type": "display_data"
    }
   ],
   "source": [
    "hourly_sales.plot(grid=True)\n",
    "plt.show()"
   ]
  },
  {
   "cell_type": "markdown",
   "id": "b24e5f18-b424-4874-a815-2e39189aff38",
   "metadata": {},
   "source": [
    "# what time people make more e-payment\n",
    "# what time people make more cash-payment"
   ]
  },
  {
   "cell_type": "code",
   "execution_count": 82,
   "id": "3a80bb99-37c3-4cae-b105-5c036b1f85da",
   "metadata": {},
   "outputs": [
    {
     "data": {
      "text/html": [
       "<div>\n",
       "<style scoped>\n",
       "    .dataframe tbody tr th:only-of-type {\n",
       "        vertical-align: middle;\n",
       "    }\n",
       "\n",
       "    .dataframe tbody tr th {\n",
       "        vertical-align: top;\n",
       "    }\n",
       "\n",
       "    .dataframe thead th {\n",
       "        text-align: right;\n",
       "    }\n",
       "</style>\n",
       "<table border=\"1\" class=\"dataframe\">\n",
       "  <thead>\n",
       "    <tr style=\"text-align: right;\">\n",
       "      <th>Hour</th>\n",
       "      <th>10</th>\n",
       "      <th>11</th>\n",
       "      <th>12</th>\n",
       "      <th>13</th>\n",
       "      <th>14</th>\n",
       "      <th>15</th>\n",
       "      <th>16</th>\n",
       "      <th>17</th>\n",
       "      <th>18</th>\n",
       "      <th>19</th>\n",
       "      <th>20</th>\n",
       "    </tr>\n",
       "    <tr>\n",
       "      <th>Payment</th>\n",
       "      <th></th>\n",
       "      <th></th>\n",
       "      <th></th>\n",
       "      <th></th>\n",
       "      <th></th>\n",
       "      <th></th>\n",
       "      <th></th>\n",
       "      <th></th>\n",
       "      <th></th>\n",
       "      <th></th>\n",
       "      <th></th>\n",
       "    </tr>\n",
       "  </thead>\n",
       "  <tbody>\n",
       "    <tr>\n",
       "      <th>Card</th>\n",
       "      <td>29</td>\n",
       "      <td>25</td>\n",
       "      <td>27</td>\n",
       "      <td>35</td>\n",
       "      <td>22</td>\n",
       "      <td>37</td>\n",
       "      <td>23</td>\n",
       "      <td>28</td>\n",
       "      <td>25</td>\n",
       "      <td>34</td>\n",
       "      <td>26</td>\n",
       "    </tr>\n",
       "    <tr>\n",
       "      <th>Cash</th>\n",
       "      <td>35</td>\n",
       "      <td>36</td>\n",
       "      <td>27</td>\n",
       "      <td>37</td>\n",
       "      <td>32</td>\n",
       "      <td>38</td>\n",
       "      <td>31</td>\n",
       "      <td>21</td>\n",
       "      <td>29</td>\n",
       "      <td>32</td>\n",
       "      <td>26</td>\n",
       "    </tr>\n",
       "    <tr>\n",
       "      <th>Gpay</th>\n",
       "      <td>37</td>\n",
       "      <td>29</td>\n",
       "      <td>35</td>\n",
       "      <td>31</td>\n",
       "      <td>29</td>\n",
       "      <td>27</td>\n",
       "      <td>23</td>\n",
       "      <td>25</td>\n",
       "      <td>39</td>\n",
       "      <td>47</td>\n",
       "      <td>23</td>\n",
       "    </tr>\n",
       "  </tbody>\n",
       "</table>\n",
       "</div>"
      ],
      "text/plain": [
       "Hour     10  11  12  13  14  15  16  17  18  19  20\n",
       "Payment                                            \n",
       "Card     29  25  27  35  22  37  23  28  25  34  26\n",
       "Cash     35  36  27  37  32  38  31  21  29  32  26\n",
       "Gpay     37  29  35  31  29  27  23  25  39  47  23"
      ]
     },
     "execution_count": 82,
     "metadata": {},
     "output_type": "execute_result"
    }
   ],
   "source": [
    "Sales.groupby(['Hour','Payment']).count()['Invoice ID'].unstack(level=0)"
   ]
  },
  {
   "cell_type": "code",
   "execution_count": null,
   "id": "781fa9f0-0bd0-4019-b9a8-6e977013cf2e",
   "metadata": {},
   "outputs": [],
   "source": []
  }
 ],
 "metadata": {
  "kernelspec": {
   "display_name": "Python [conda env:Anaconda3]",
   "language": "python",
   "name": "conda-env-Anaconda3-py"
  },
  "language_info": {
   "codemirror_mode": {
    "name": "ipython",
    "version": 3
   },
   "file_extension": ".py",
   "mimetype": "text/x-python",
   "name": "python",
   "nbconvert_exporter": "python",
   "pygments_lexer": "ipython3",
   "version": "3.9.7"
  }
 },
 "nbformat": 4,
 "nbformat_minor": 5
}
